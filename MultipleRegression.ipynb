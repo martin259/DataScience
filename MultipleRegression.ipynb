{
  "nbformat": 4,
  "nbformat_minor": 0,
  "metadata": {
    "colab": {
      "name": "Untitled2.ipynb",
      "provenance": [],
      "authorship_tag": "ABX9TyNIgUnT6iKDnXmWjR+bUn0q",
      "include_colab_link": true
    },
    "kernelspec": {
      "name": "python3",
      "display_name": "Python 3"
    },
    "language_info": {
      "name": "python"
    }
  },
  "cells": [
    {
      "cell_type": "markdown",
      "metadata": {
        "id": "view-in-github",
        "colab_type": "text"
      },
      "source": [
        "<a href=\"https://colab.research.google.com/github/martin259/DataScience/blob/main/MultipleRegression.ipynb\" target=\"_parent\"><img src=\"https://colab.research.google.com/assets/colab-badge.svg\" alt=\"Open In Colab\"/></a>"
      ]
    },
    {
      "cell_type": "code",
      "execution_count": 1,
      "metadata": {
        "id": "I5hgp14qgSt5"
      },
      "outputs": [],
      "source": [
        "import numpy as np\n",
        "import matplotlib.pyplot as plt\n",
        "import pandas as pd"
      ]
    },
    {
      "cell_type": "code",
      "source": [
        "dataset=pd.read_csv('startups.csv')"
      ],
      "metadata": {
        "id": "F5mbu6uEhQBc"
      },
      "execution_count": 3,
      "outputs": []
    },
    {
      "cell_type": "code",
      "source": [
        "dummy=pd.get_dummies(dataset[\"State\"])\n",
        "df=pd.concat([dummy,dataset],axis=1)\n",
        "df.drop([\"State\"],inplace=True,axis=1)"
      ],
      "metadata": {
        "id": "H740zQgRhu6i"
      },
      "execution_count": 6,
      "outputs": []
    },
    {
      "cell_type": "code",
      "source": [
        "x=df.iloc[:,:-1].values\n",
        "y=df.iloc[:,6].values"
      ],
      "metadata": {
        "id": "-TVkixQ-iWYI"
      },
      "execution_count": 7,
      "outputs": []
    },
    {
      "cell_type": "code",
      "source": [
        "from sklearn.model_selection import train_test_split"
      ],
      "metadata": {
        "id": "H-HZzvnUijWw"
      },
      "execution_count": 8,
      "outputs": []
    },
    {
      "cell_type": "code",
      "source": [
        "x_train,x_test,y_train,y_test=train_test_split(x,y,test_size=0.3,random_state=42)"
      ],
      "metadata": {
        "id": "67XLCq3aitdf"
      },
      "execution_count": 17,
      "outputs": []
    },
    {
      "cell_type": "code",
      "source": [
        "from sklearn.linear_model import LinearRegression\n",
        "regressor=LinearRegression()\n",
        "regressor.fit(x_train,y_train)"
      ],
      "metadata": {
        "colab": {
          "base_uri": "https://localhost:8080/"
        },
        "id": "llQXy_3WjCU_",
        "outputId": "0e5da1df-b360-47e4-bff3-bb71025b9a45"
      },
      "execution_count": 18,
      "outputs": [
        {
          "output_type": "execute_result",
          "data": {
            "text/plain": [
              "LinearRegression()"
            ]
          },
          "metadata": {},
          "execution_count": 18
        }
      ]
    },
    {
      "cell_type": "code",
      "source": [
        "y_pred=regressor.predict(x_test)"
      ],
      "metadata": {
        "id": "HD3GVwo0iwPx"
      },
      "execution_count": 19,
      "outputs": []
    },
    {
      "cell_type": "code",
      "source": [
        "y_test"
      ],
      "metadata": {
        "colab": {
          "base_uri": "https://localhost:8080/"
        },
        "id": "x5J_HUfBjwGl",
        "outputId": "94c654c3-6bc3-42c5-9e9b-a24047ac8e97"
      },
      "execution_count": 21,
      "outputs": [
        {
          "output_type": "execute_result",
          "data": {
            "text/plain": [
              "array([134307.35,  81005.76,  99937.59,  64926.08, 125370.37,  35673.41,\n",
              "       105733.54, 107404.34,  97427.84, 122776.86, 141585.52, 166187.94,\n",
              "        89949.14, 152211.77, 182901.99])"
            ]
          },
          "metadata": {},
          "execution_count": 21
        }
      ]
    },
    {
      "cell_type": "code",
      "source": [
        "y_pred"
      ],
      "metadata": {
        "colab": {
          "base_uri": "https://localhost:8080/"
        },
        "id": "9QmPTcfrjscV",
        "outputId": "83fd0213-4820-4411-f9d3-acdb3019136e"
      },
      "execution_count": 20,
      "outputs": [
        {
          "output_type": "execute_result",
          "data": {
            "text/plain": [
              "array([126187.39411505,  85788.82259512,  99777.02815177,  45706.12238327,\n",
              "       127062.20722772,  51891.83884456, 109114.62977494, 100600.61123701,\n",
              "        97953.99874714, 111730.57706807, 128818.49200668, 174195.35772633,\n",
              "        93736.28538438, 148381.04097161, 172313.8713939 ])"
            ]
          },
          "metadata": {},
          "execution_count": 20
        }
      ]
    },
    {
      "cell_type": "code",
      "source": [
        "from sklearn.metrics import r2_score\n",
        "score=r2_score(y_test,y_pred)\n",
        "print(f'R2 score:{score}')"
      ],
      "metadata": {
        "colab": {
          "base_uri": "https://localhost:8080/"
        },
        "id": "D0Q8pMl4jzkE",
        "outputId": "fcd24aee-3b7b-4641-ea67-234821e06c5f"
      },
      "execution_count": 26,
      "outputs": [
        {
          "output_type": "stream",
          "name": "stdout",
          "text": [
            "R2 score:0.9397108063355798\n"
          ]
        }
      ]
    }
  ]
}