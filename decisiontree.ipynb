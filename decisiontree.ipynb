{
  "nbformat": 4,
  "nbformat_minor": 0,
  "metadata": {
    "colab": {
      "name": "decisiontree.ipynb",
      "provenance": [],
      "authorship_tag": "ABX9TyM8AyfG+tFQS08EzTsnbrKP",
      "include_colab_link": true
    },
    "kernelspec": {
      "name": "python3",
      "display_name": "Python 3"
    },
    "language_info": {
      "name": "python"
    }
  },
  "cells": [
    {
      "cell_type": "markdown",
      "metadata": {
        "id": "view-in-github",
        "colab_type": "text"
      },
      "source": [
        "<a href=\"https://colab.research.google.com/github/martin259/DataScience/blob/main/decisiontree.ipynb\" target=\"_parent\"><img src=\"https://colab.research.google.com/assets/colab-badge.svg\" alt=\"Open In Colab\"/></a>"
      ]
    },
    {
      "cell_type": "code",
      "execution_count": 2,
      "metadata": {
        "id": "FLMiiF2uWc8G"
      },
      "outputs": [],
      "source": [
        "import numpy as nm  \n",
        "import matplotlib.pyplot as mtp  \n",
        "import pandas as pd  "
      ]
    },
    {
      "cell_type": "code",
      "source": [
        "data_set= pd.read_csv('iris.csv')"
      ],
      "metadata": {
        "id": "Thp0jwxXWlLk"
      },
      "execution_count": 3,
      "outputs": []
    },
    {
      "cell_type": "code",
      "source": [
        "x= data_set.iloc[:, [2,3]].values  \n",
        "y= data_set.iloc[:, 4].values \n",
        "y"
      ],
      "metadata": {
        "colab": {
          "base_uri": "https://localhost:8080/"
        },
        "id": "K1M44CT3Wo90",
        "outputId": "e10f3f9b-cbe8-4e9c-a1d2-cb0a4c215825"
      },
      "execution_count": 6,
      "outputs": [
        {
          "output_type": "execute_result",
          "data": {
            "text/plain": [
              "array(['setosa', 'setosa', 'setosa', 'setosa', 'setosa', 'setosa',\n",
              "       'setosa', 'setosa', 'setosa', 'setosa', 'setosa', 'setosa',\n",
              "       'setosa', 'setosa', 'setosa', 'setosa', 'setosa', 'setosa',\n",
              "       'setosa', 'setosa', 'setosa', 'setosa', 'setosa', 'setosa',\n",
              "       'setosa', 'setosa', 'setosa', 'setosa', 'setosa', 'setosa',\n",
              "       'setosa', 'setosa', 'setosa', 'setosa', 'setosa', 'setosa',\n",
              "       'setosa', 'setosa', 'setosa', 'setosa', 'setosa', 'setosa',\n",
              "       'setosa', 'setosa', 'setosa', 'setosa', 'setosa', 'setosa',\n",
              "       'setosa', 'setosa', 'versicolor', 'versicolor', 'versicolor',\n",
              "       'versicolor', 'versicolor', 'versicolor', 'versicolor',\n",
              "       'versicolor', 'versicolor', 'versicolor', 'versicolor',\n",
              "       'versicolor', 'versicolor', 'versicolor', 'versicolor',\n",
              "       'versicolor', 'versicolor', 'versicolor', 'versicolor',\n",
              "       'versicolor', 'versicolor', 'versicolor', 'versicolor',\n",
              "       'versicolor', 'versicolor', 'versicolor', 'versicolor',\n",
              "       'versicolor', 'versicolor', 'versicolor', 'versicolor',\n",
              "       'versicolor', 'versicolor', 'versicolor', 'versicolor',\n",
              "       'versicolor', 'versicolor', 'versicolor', 'versicolor',\n",
              "       'versicolor', 'versicolor', 'versicolor', 'versicolor',\n",
              "       'versicolor', 'versicolor', 'versicolor', 'versicolor',\n",
              "       'versicolor', 'versicolor', 'versicolor', 'virginica', 'virginica',\n",
              "       'virginica', 'virginica', 'virginica', 'virginica', 'virginica',\n",
              "       'virginica', 'virginica', 'virginica', 'virginica', 'virginica',\n",
              "       'virginica', 'virginica', 'virginica', 'virginica', 'virginica',\n",
              "       'virginica', 'virginica', 'virginica', 'virginica', 'virginica',\n",
              "       'virginica', 'virginica', 'virginica', 'virginica', 'virginica',\n",
              "       'virginica', 'virginica', 'virginica', 'virginica', 'virginica',\n",
              "       'virginica', 'virginica', 'virginica', 'virginica', 'virginica',\n",
              "       'virginica', 'virginica', 'virginica', 'virginica', 'virginica',\n",
              "       'virginica', 'virginica', 'virginica', 'virginica', 'virginica',\n",
              "       'virginica', 'virginica', 'virginica'], dtype=object)"
            ]
          },
          "metadata": {},
          "execution_count": 6
        }
      ]
    },
    {
      "cell_type": "code",
      "source": [
        "from sklearn.model_selection import train_test_split  \n",
        "x_train, x_test, y_train, y_test= train_test_split(x, y, test_size= 0.25, random_state=0)  "
      ],
      "metadata": {
        "id": "eueAUxIHX1Jq"
      },
      "execution_count": 7,
      "outputs": []
    },
    {
      "cell_type": "code",
      "source": [
        "from sklearn.preprocessing import StandardScaler    \n",
        "st_x= StandardScaler()  \n",
        "x_train= st_x.fit_transform(x_train)    \n",
        "x_test= st_x.transform(x_test) "
      ],
      "metadata": {
        "id": "hY6pFu9BYPxY"
      },
      "execution_count": 8,
      "outputs": []
    },
    {
      "cell_type": "code",
      "source": [
        "from sklearn.tree import DecisionTreeClassifier  \n",
        "classifier= DecisionTreeClassifier(criterion='entropy', random_state=0)  \n",
        "classifier.fit(x_train, y_train)  "
      ],
      "metadata": {
        "colab": {
          "base_uri": "https://localhost:8080/"
        },
        "id": "XrxQfqqMYYKo",
        "outputId": "81d9bbc0-14ca-4e13-ddcb-4e5c051170da"
      },
      "execution_count": 9,
      "outputs": [
        {
          "output_type": "execute_result",
          "data": {
            "text/plain": [
              "DecisionTreeClassifier(criterion='entropy', random_state=0)"
            ]
          },
          "metadata": {},
          "execution_count": 9
        }
      ]
    },
    {
      "cell_type": "code",
      "source": [
        "y_pred= classifier.predict(x_test)  \n"
      ],
      "metadata": {
        "id": "Qr1CGqofYbc_"
      },
      "execution_count": 11,
      "outputs": []
    },
    {
      "cell_type": "code",
      "source": [
        "from sklearn.metrics import confusion_matrix  \n",
        "cm= confusion_matrix(y_test, y_pred)  \n",
        "cm"
      ],
      "metadata": {
        "colab": {
          "base_uri": "https://localhost:8080/"
        },
        "id": "mImeIsrLY2L_",
        "outputId": "38b741a2-7a49-41cc-dd3a-c3b594910801"
      },
      "execution_count": 12,
      "outputs": [
        {
          "output_type": "execute_result",
          "data": {
            "text/plain": [
              "array([[13,  0,  0],\n",
              "       [ 0, 15,  1],\n",
              "       [ 0,  1,  8]])"
            ]
          },
          "metadata": {},
          "execution_count": 12
        }
      ]
    },
    {
      "cell_type": "code",
      "source": [
        "from sklearn.metrics import accuracy_score\n",
        "print(\"Accuracy : \",accuracy_score(y_test,y_pred))"
      ],
      "metadata": {
        "colab": {
          "base_uri": "https://localhost:8080/"
        },
        "id": "ByFV8naJY5Kn",
        "outputId": "0b66baca-b8ce-4ae9-8086-21363e5b4660"
      },
      "execution_count": 13,
      "outputs": [
        {
          "output_type": "stream",
          "name": "stdout",
          "text": [
            "Accuracy :  0.9473684210526315\n"
          ]
        }
      ]
    },
    {
      "cell_type": "code",
      "source": [
        "from sklearn import tree\n",
        "tree.plot_tree(classifier)"
      ],
      "metadata": {
        "colab": {
          "base_uri": "https://localhost:8080/",
          "height": 524
        },
        "id": "T2yLzvVSY8sm",
        "outputId": "3e8486c8-e851-4c79-e18f-639703ba0d84"
      },
      "execution_count": 14,
      "outputs": [
        {
          "output_type": "execute_result",
          "data": {
            "text/plain": [
              "[Text(133.92000000000002, 199.32, 'X[1] <= -0.542\\nentropy = 1.581\\nsamples = 112\\nvalue = [37, 34, 41]'),\n",
              " Text(100.44000000000001, 163.07999999999998, 'entropy = 0.0\\nsamples = 37\\nvalue = [37, 0, 0]'),\n",
              " Text(167.40000000000003, 163.07999999999998, 'X[0] <= 0.644\\nentropy = 0.994\\nsamples = 75\\nvalue = [0, 34, 41]'),\n",
              " Text(66.96000000000001, 126.83999999999999, 'X[1] <= 0.549\\nentropy = 0.414\\nsamples = 36\\nvalue = [0, 33, 3]'),\n",
              " Text(33.480000000000004, 90.6, 'entropy = 0.0\\nsamples = 32\\nvalue = [0, 32, 0]'),\n",
              " Text(100.44000000000001, 90.6, 'X[0] <= 0.476\\nentropy = 0.811\\nsamples = 4\\nvalue = [0, 1, 3]'),\n",
              " Text(66.96000000000001, 54.359999999999985, 'entropy = 0.0\\nsamples = 1\\nvalue = [0, 0, 1]'),\n",
              " Text(133.92000000000002, 54.359999999999985, 'X[0] <= 0.588\\nentropy = 0.918\\nsamples = 3\\nvalue = [0, 1, 2]'),\n",
              " Text(100.44000000000001, 18.119999999999976, 'entropy = 1.0\\nsamples = 2\\nvalue = [0, 1, 1]'),\n",
              " Text(167.40000000000003, 18.119999999999976, 'entropy = 0.0\\nsamples = 1\\nvalue = [0, 0, 1]'),\n",
              " Text(267.84000000000003, 126.83999999999999, 'X[1] <= 0.677\\nentropy = 0.172\\nsamples = 39\\nvalue = [0, 1, 38]'),\n",
              " Text(234.36, 90.6, 'X[1] <= 0.549\\nentropy = 0.811\\nsamples = 4\\nvalue = [0, 1, 3]'),\n",
              " Text(200.88000000000002, 54.359999999999985, 'entropy = 0.0\\nsamples = 3\\nvalue = [0, 0, 3]'),\n",
              " Text(267.84000000000003, 54.359999999999985, 'entropy = 0.0\\nsamples = 1\\nvalue = [0, 1, 0]'),\n",
              " Text(301.32000000000005, 90.6, 'entropy = 0.0\\nsamples = 35\\nvalue = [0, 0, 35]')]"
            ]
          },
          "metadata": {},
          "execution_count": 14
        },
        {
          "output_type": "display_data",
          "data": {
            "image/png": "[encoded data removed]",
            "text/plain": [
              "<Figure size 432x288 with 1 Axes>"
            ]
          },
          "metadata": {
            "needs_background": "light"
          }
        }
      ]
    }
  ]
}