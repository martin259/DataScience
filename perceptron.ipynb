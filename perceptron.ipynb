{
  "nbformat": 4,
  "nbformat_minor": 0,
  "metadata": {
    "colab": {
      "name": "Untitled1.ipynb",
      "provenance": [],
      "authorship_tag": "ABX9TyOapKakc2MzVQY1AI66lE/F",
      "include_colab_link": true
    },
    "kernelspec": {
      "name": "python3",
      "display_name": "Python 3"
    },
    "language_info": {
      "name": "python"
    }
  },
  "cells": [
    {
      "cell_type": "markdown",
      "metadata": {
        "id": "view-in-github",
        "colab_type": "text"
      },
      "source": [
        "<a href=\"https://colab.research.google.com/github/martin259/DataScience/blob/main/perceptron.ipynb\" target=\"_parent\"><img src=\"https://colab.research.google.com/assets/colab-badge.svg\" alt=\"Open In Colab\"/></a>"
      ]
    },
    {
      "cell_type": "code",
      "metadata": {
        "id": "di1eg8UhSmye"
      },
      "source": [
        "from sklearn.linear_model import Perceptron\n",
        "from sklearn.neural_network import MLPClassifier "
      ],
      "execution_count": 38,
      "outputs": []
    },
    {
      "cell_type": "code",
      "metadata": {
        "id": "A6H1a08TTWWc"
      },
      "source": [
        "x=[[1,0],[1,1],[2,0]]\n",
        "y=[\"boy\",\"girl\",\"boy\"]\n",
        "ml=Perceptron()"
      ],
      "execution_count": 9,
      "outputs": []
    },
    {
      "cell_type": "code",
      "metadata": {
        "id": "PofALwPlTrPL"
      },
      "source": [
        "ml=ml.fit(x,y)"
      ],
      "execution_count": 10,
      "outputs": []
    },
    {
      "cell_type": "code",
      "metadata": {
        "id": "uTWy_yZZUr8P"
      },
      "source": [
        "result=ml.predict([[1,0],[2,0]])"
      ],
      "execution_count": 46,
      "outputs": []
    },
    {
      "cell_type": "code",
      "metadata": {
        "colab": {
          "base_uri": "https://localhost:8080/"
        },
        "id": "p-gW2dwtU4Bv",
        "outputId": "80f40ae6-4b26-4f1e-ceaf-beb47263d25b"
      },
      "source": [
        "print(result)"
      ],
      "execution_count": 47,
      "outputs": [
        {
          "output_type": "stream",
          "name": "stdout",
          "text": [
            "['boy' 'boy']\n"
          ]
        }
      ]
    },
    {
      "cell_type": "code",
      "metadata": {
        "id": "D_1NgZUQVotF"
      },
      "source": [
        "ml=MLPClassifier(hidden_layer_sizes=(10),activation='relu')"
      ],
      "execution_count": 48,
      "outputs": []
    },
    {
      "cell_type": "code",
      "metadata": {
        "colab": {
          "base_uri": "https://localhost:8080/"
        },
        "id": "H2A_kKQLYvwj",
        "outputId": "838e9b23-1819-4dde-a1b6-4ee7ee20b496"
      },
      "source": [
        "ml=ml.fit(x,y)"
      ],
      "execution_count": 53,
      "outputs": [
        {
          "output_type": "stream",
          "name": "stderr",
          "text": [
            "/usr/local/lib/python3.7/dist-packages/sklearn/neural_network/_multilayer_perceptron.py:696: ConvergenceWarning: Stochastic Optimizer: Maximum iterations (200) reached and the optimization hasn't converged yet.\n",
            "  ConvergenceWarning,\n"
          ]
        }
      ]
    },
    {
      "cell_type": "code",
      "metadata": {
        "id": "xIyHr6DFY0ra"
      },
      "source": [
        "res=ml.predict([[1,0],[1,1]])"
      ],
      "execution_count": 54,
      "outputs": []
    },
    {
      "cell_type": "code",
      "metadata": {
        "colab": {
          "base_uri": "https://localhost:8080/"
        },
        "id": "d8HvlsVKY92i",
        "outputId": "2fd7d0d9-3011-4937-a469-098133f7f5a5"
      },
      "source": [
        "print(res) "
      ],
      "execution_count": 55,
      "outputs": [
        {
          "output_type": "stream",
          "name": "stdout",
          "text": [
            "['boy' 'girl']\n"
          ]
        }
      ]
    }
  ]
}